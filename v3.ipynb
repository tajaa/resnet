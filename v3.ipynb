{
  "nbformat": 4,
  "nbformat_minor": 0,
  "metadata": {
    "colab": {
      "provenance": []
    },
    "kernelspec": {
      "name": "python3",
      "display_name": "Python 3"
    },
    "language_info": {
      "name": "python"
    }
  },
  "cells": [
    {
      "cell_type": "code",
      "execution_count": null,
      "metadata": {
        "id": "OYgGqHT3E7jj"
      },
      "outputs": [],
      "source": [
        "from fastai.vision.all import *"
      ]
    },
    {
      "cell_type": "code",
      "source": [
        "! git clone --depth 1 https://github.com/rwightman/pytorch-image-models.git"
      ],
      "metadata": {
        "colab": {
          "base_uri": "https://localhost:8080/"
        },
        "id": "EEkfBktFX42M",
        "outputId": "ca445b24-7c33-4753-d41f-97c698f3dadc"
      },
      "execution_count": null,
      "outputs": [
        {
          "output_type": "stream",
          "name": "stdout",
          "text": [
            "Cloning into 'pytorch-image-models'...\n",
            "remote: Enumerating objects: 576, done.\u001b[K\n",
            "remote: Counting objects: 100% (576/576), done.\u001b[K\n",
            "remote: Compressing objects: 100% (404/404), done.\u001b[K\n",
            "remote: Total 576 (delta 225), reused 390 (delta 166), pack-reused 0\u001b[K\n",
            "Receiving objects: 100% (576/576), 2.55 MiB | 14.98 MiB/s, done.\n",
            "Resolving deltas: 100% (225/225), done.\n"
          ]
        }
      ]
    },
    {
      "cell_type": "code",
      "source": [
        "%cd pytorch-image-models"
      ],
      "metadata": {
        "colab": {
          "base_uri": "https://localhost:8080/"
        },
        "id": "fusxj0vPYAE2",
        "outputId": "22897907-c85c-4a9b-f7bf-4ed1b7d7a55b"
      },
      "execution_count": null,
      "outputs": [
        {
          "output_type": "stream",
          "name": "stdout",
          "text": [
            "/content/pytorch-image-models\n"
          ]
        }
      ]
    },
    {
      "cell_type": "code",
      "source": [
        "import pandas as pd\n"
      ],
      "metadata": {
        "colab": {
          "base_uri": "https://localhost:8080/"
        },
        "id": "rnQaznMxYtuV",
        "outputId": "7a30f096-b023-4611-d4a9-be7dbcf249de"
      },
      "execution_count": null,
      "outputs": [
        {
          "output_type": "stream",
          "name": "stdout",
          "text": [
            "[Errno 2] No such file or directory: 'pytorch-image-models/results'\n",
            "/content/pytorch-image-models\n"
          ]
        }
      ]
    },
    {
      "cell_type": "code",
      "source": [
        "!pwd"
      ],
      "metadata": {
        "colab": {
          "base_uri": "https://localhost:8080/"
        },
        "id": "38vCBdQIYv9m",
        "outputId": "856bbeb9-3396-439f-ff19-ce5aaa733408"
      },
      "execution_count": null,
      "outputs": [
        {
          "output_type": "stream",
          "name": "stdout",
          "text": [
            "/content/pytorch-image-models\n"
          ]
        }
      ]
    },
    {
      "cell_type": "code",
      "source": [
        "%cd results\n"
      ],
      "metadata": {
        "colab": {
          "base_uri": "https://localhost:8080/"
        },
        "id": "iQNr-HtdY0VG",
        "outputId": "c86efe76-62dc-4987-fe2d-24d46b0acd1f"
      },
      "execution_count": null,
      "outputs": [
        {
          "output_type": "stream",
          "name": "stdout",
          "text": [
            "/content/pytorch-image-models/results\n"
          ]
        }
      ]
    },
    {
      "cell_type": "code",
      "source": [
        "!ls"
      ],
      "metadata": {
        "colab": {
          "base_uri": "https://localhost:8080/"
        },
        "id": "I0Q2yfdyZLUc",
        "outputId": "b5eceda7-b874-4001-f68d-938bc2f31634"
      },
      "execution_count": null,
      "outputs": [
        {
          "output_type": "stream",
          "name": "stdout",
          "text": [
            "benchmark-infer-amp-nchw-pt111-cu113-rtx3090.csv\n",
            "benchmark-infer-amp-nchw-pt112-cu113-rtx3090.csv\n",
            "benchmark-infer-amp-nchw-pt113-cu117-rtx3090.csv\n",
            "benchmark-infer-amp-nchw-pt210-cu121-rtx3090.csv\n",
            "benchmark-infer-amp-nhwc-pt111-cu113-rtx3090.csv\n",
            "benchmark-infer-amp-nhwc-pt112-cu113-rtx3090.csv\n",
            "benchmark-infer-amp-nhwc-pt113-cu117-rtx3090.csv\n",
            "benchmark-infer-amp-nhwc-pt210-cu121-rtx3090.csv\n",
            "benchmark-infer-fp32-nchw-pt221-cpu-i9_10940x-dynamo.csv\n",
            "benchmark-train-amp-nchw-pt111-cu113-rtx3090.csv\n",
            "benchmark-train-amp-nchw-pt112-cu113-rtx3090.csv\n",
            "benchmark-train-amp-nhwc-pt111-cu113-rtx3090.csv\n",
            "benchmark-train-amp-nhwc-pt112-cu113-rtx3090.csv\n",
            "generate_csv_results.py\n",
            "model_metadata-in1k.csv\n",
            "README.md\n",
            "results-imagenet-a-clean.csv\n",
            "results-imagenet-a.csv\n",
            "results-imagenet.csv\n",
            "results-imagenet-r-clean.csv\n",
            "results-imagenet-r.csv\n",
            "results-imagenet-real.csv\n",
            "results-imagenetv2-matched-frequency.csv\n",
            "results-sketch.csv\n"
          ]
        }
      ]
    },
    {
      "cell_type": "code",
      "source": [
        "df_results = pd.read_csv('results-imagenet.csv')"
      ],
      "metadata": {
        "id": "X7eRIpudZiyt"
      },
      "execution_count": null,
      "outputs": []
    },
    {
      "cell_type": "code",
      "source": [
        "df_results['model_org'] = df_results['model']\n",
        "df_results['model'] = df_results['model'].str.split('.').str[0]"
      ],
      "metadata": {
        "id": "QKQh7dBgZr04"
      },
      "execution_count": null,
      "outputs": []
    },
    {
      "cell_type": "code",
      "source": [
        "df_results.head()"
      ],
      "metadata": {
        "colab": {
          "base_uri": "https://localhost:8080/",
          "height": 226
        },
        "id": "pL2VcCl0Zvmj",
        "outputId": "7d33f016-f6aa-4a8b-cdc9-7a5e450a71b2"
      },
      "execution_count": null,
      "outputs": [
        {
          "output_type": "execute_result",
          "data": {
            "text/plain": [
              "                     model    top1  top1_err    top5  top5_err param_count  \\\n",
              "0  eva02_large_patch14_448  90.052     9.948  99.048     0.952      305.08   \n",
              "1  eva02_large_patch14_448  89.970    10.030  99.012     0.988      305.08   \n",
              "2    eva_giant_patch14_560  89.786    10.214  98.992     1.008    1,014.45   \n",
              "3  eva02_large_patch14_448  89.622    10.378  98.950     1.050      305.08   \n",
              "4  eva02_large_patch14_448  89.574    10.426  98.924     1.076      305.08   \n",
              "\n",
              "   img_size  crop_pct interpolation  \\\n",
              "0       448       1.0       bicubic   \n",
              "1       448       1.0       bicubic   \n",
              "2       560       1.0       bicubic   \n",
              "3       448       1.0       bicubic   \n",
              "4       448       1.0       bicubic   \n",
              "\n",
              "                                         model_org  \n",
              "0   eva02_large_patch14_448.mim_m38m_ft_in22k_in1k  \n",
              "1  eva02_large_patch14_448.mim_in22k_ft_in22k_in1k  \n",
              "2         eva_giant_patch14_560.m30m_ft_in22k_in1k  \n",
              "3        eva02_large_patch14_448.mim_in22k_ft_in1k  \n",
              "4         eva02_large_patch14_448.mim_m38m_ft_in1k  "
            ],
            "text/html": [
              "\n",
              "  <div id=\"df-4b5c0ee2-8ec4-4e31-95e7-6ac69a1578b7\" class=\"colab-df-container\">\n",
              "    <div>\n",
              "<style scoped>\n",
              "    .dataframe tbody tr th:only-of-type {\n",
              "        vertical-align: middle;\n",
              "    }\n",
              "\n",
              "    .dataframe tbody tr th {\n",
              "        vertical-align: top;\n",
              "    }\n",
              "\n",
              "    .dataframe thead th {\n",
              "        text-align: right;\n",
              "    }\n",
              "</style>\n",
              "<table border=\"1\" class=\"dataframe\">\n",
              "  <thead>\n",
              "    <tr style=\"text-align: right;\">\n",
              "      <th></th>\n",
              "      <th>model</th>\n",
              "      <th>top1</th>\n",
              "      <th>top1_err</th>\n",
              "      <th>top5</th>\n",
              "      <th>top5_err</th>\n",
              "      <th>param_count</th>\n",
              "      <th>img_size</th>\n",
              "      <th>crop_pct</th>\n",
              "      <th>interpolation</th>\n",
              "      <th>model_org</th>\n",
              "    </tr>\n",
              "  </thead>\n",
              "  <tbody>\n",
              "    <tr>\n",
              "      <th>0</th>\n",
              "      <td>eva02_large_patch14_448</td>\n",
              "      <td>90.052</td>\n",
              "      <td>9.948</td>\n",
              "      <td>99.048</td>\n",
              "      <td>0.952</td>\n",
              "      <td>305.08</td>\n",
              "      <td>448</td>\n",
              "      <td>1.0</td>\n",
              "      <td>bicubic</td>\n",
              "      <td>eva02_large_patch14_448.mim_m38m_ft_in22k_in1k</td>\n",
              "    </tr>\n",
              "    <tr>\n",
              "      <th>1</th>\n",
              "      <td>eva02_large_patch14_448</td>\n",
              "      <td>89.970</td>\n",
              "      <td>10.030</td>\n",
              "      <td>99.012</td>\n",
              "      <td>0.988</td>\n",
              "      <td>305.08</td>\n",
              "      <td>448</td>\n",
              "      <td>1.0</td>\n",
              "      <td>bicubic</td>\n",
              "      <td>eva02_large_patch14_448.mim_in22k_ft_in22k_in1k</td>\n",
              "    </tr>\n",
              "    <tr>\n",
              "      <th>2</th>\n",
              "      <td>eva_giant_patch14_560</td>\n",
              "      <td>89.786</td>\n",
              "      <td>10.214</td>\n",
              "      <td>98.992</td>\n",
              "      <td>1.008</td>\n",
              "      <td>1,014.45</td>\n",
              "      <td>560</td>\n",
              "      <td>1.0</td>\n",
              "      <td>bicubic</td>\n",
              "      <td>eva_giant_patch14_560.m30m_ft_in22k_in1k</td>\n",
              "    </tr>\n",
              "    <tr>\n",
              "      <th>3</th>\n",
              "      <td>eva02_large_patch14_448</td>\n",
              "      <td>89.622</td>\n",
              "      <td>10.378</td>\n",
              "      <td>98.950</td>\n",
              "      <td>1.050</td>\n",
              "      <td>305.08</td>\n",
              "      <td>448</td>\n",
              "      <td>1.0</td>\n",
              "      <td>bicubic</td>\n",
              "      <td>eva02_large_patch14_448.mim_in22k_ft_in1k</td>\n",
              "    </tr>\n",
              "    <tr>\n",
              "      <th>4</th>\n",
              "      <td>eva02_large_patch14_448</td>\n",
              "      <td>89.574</td>\n",
              "      <td>10.426</td>\n",
              "      <td>98.924</td>\n",
              "      <td>1.076</td>\n",
              "      <td>305.08</td>\n",
              "      <td>448</td>\n",
              "      <td>1.0</td>\n",
              "      <td>bicubic</td>\n",
              "      <td>eva02_large_patch14_448.mim_m38m_ft_in1k</td>\n",
              "    </tr>\n",
              "  </tbody>\n",
              "</table>\n",
              "</div>\n",
              "    <div class=\"colab-df-buttons\">\n",
              "\n",
              "  <div class=\"colab-df-container\">\n",
              "    <button class=\"colab-df-convert\" onclick=\"convertToInteractive('df-4b5c0ee2-8ec4-4e31-95e7-6ac69a1578b7')\"\n",
              "            title=\"Convert this dataframe to an interactive table.\"\n",
              "            style=\"display:none;\">\n",
              "\n",
              "  <svg xmlns=\"http://www.w3.org/2000/svg\" height=\"24px\" viewBox=\"0 -960 960 960\">\n",
              "    <path d=\"M120-120v-720h720v720H120Zm60-500h600v-160H180v160Zm220 220h160v-160H400v160Zm0 220h160v-160H400v160ZM180-400h160v-160H180v160Zm440 0h160v-160H620v160ZM180-180h160v-160H180v160Zm440 0h160v-160H620v160Z\"/>\n",
              "  </svg>\n",
              "    </button>\n",
              "\n",
              "  <style>\n",
              "    .colab-df-container {\n",
              "      display:flex;\n",
              "      gap: 12px;\n",
              "    }\n",
              "\n",
              "    .colab-df-convert {\n",
              "      background-color: #E8F0FE;\n",
              "      border: none;\n",
              "      border-radius: 50%;\n",
              "      cursor: pointer;\n",
              "      display: none;\n",
              "      fill: #1967D2;\n",
              "      height: 32px;\n",
              "      padding: 0 0 0 0;\n",
              "      width: 32px;\n",
              "    }\n",
              "\n",
              "    .colab-df-convert:hover {\n",
              "      background-color: #E2EBFA;\n",
              "      box-shadow: 0px 1px 2px rgba(60, 64, 67, 0.3), 0px 1px 3px 1px rgba(60, 64, 67, 0.15);\n",
              "      fill: #174EA6;\n",
              "    }\n",
              "\n",
              "    .colab-df-buttons div {\n",
              "      margin-bottom: 4px;\n",
              "    }\n",
              "\n",
              "    [theme=dark] .colab-df-convert {\n",
              "      background-color: #3B4455;\n",
              "      fill: #D2E3FC;\n",
              "    }\n",
              "\n",
              "    [theme=dark] .colab-df-convert:hover {\n",
              "      background-color: #434B5C;\n",
              "      box-shadow: 0px 1px 3px 1px rgba(0, 0, 0, 0.15);\n",
              "      filter: drop-shadow(0px 1px 2px rgba(0, 0, 0, 0.3));\n",
              "      fill: #FFFFFF;\n",
              "    }\n",
              "  </style>\n",
              "\n",
              "    <script>\n",
              "      const buttonEl =\n",
              "        document.querySelector('#df-4b5c0ee2-8ec4-4e31-95e7-6ac69a1578b7 button.colab-df-convert');\n",
              "      buttonEl.style.display =\n",
              "        google.colab.kernel.accessAllowed ? 'block' : 'none';\n",
              "\n",
              "      async function convertToInteractive(key) {\n",
              "        const element = document.querySelector('#df-4b5c0ee2-8ec4-4e31-95e7-6ac69a1578b7');\n",
              "        const dataTable =\n",
              "          await google.colab.kernel.invokeFunction('convertToInteractive',\n",
              "                                                    [key], {});\n",
              "        if (!dataTable) return;\n",
              "\n",
              "        const docLinkHtml = 'Like what you see? Visit the ' +\n",
              "          '<a target=\"_blank\" href=https://colab.research.google.com/notebooks/data_table.ipynb>data table notebook</a>'\n",
              "          + ' to learn more about interactive tables.';\n",
              "        element.innerHTML = '';\n",
              "        dataTable['output_type'] = 'display_data';\n",
              "        await google.colab.output.renderOutput(dataTable, element);\n",
              "        const docLink = document.createElement('div');\n",
              "        docLink.innerHTML = docLinkHtml;\n",
              "        element.appendChild(docLink);\n",
              "      }\n",
              "    </script>\n",
              "  </div>\n",
              "\n",
              "\n",
              "<div id=\"df-60c34c5b-f95e-47fd-bd38-ef28e1e1655f\">\n",
              "  <button class=\"colab-df-quickchart\" onclick=\"quickchart('df-60c34c5b-f95e-47fd-bd38-ef28e1e1655f')\"\n",
              "            title=\"Suggest charts\"\n",
              "            style=\"display:none;\">\n",
              "\n",
              "<svg xmlns=\"http://www.w3.org/2000/svg\" height=\"24px\"viewBox=\"0 0 24 24\"\n",
              "     width=\"24px\">\n",
              "    <g>\n",
              "        <path d=\"M19 3H5c-1.1 0-2 .9-2 2v14c0 1.1.9 2 2 2h14c1.1 0 2-.9 2-2V5c0-1.1-.9-2-2-2zM9 17H7v-7h2v7zm4 0h-2V7h2v10zm4 0h-2v-4h2v4z\"/>\n",
              "    </g>\n",
              "</svg>\n",
              "  </button>\n",
              "\n",
              "<style>\n",
              "  .colab-df-quickchart {\n",
              "      --bg-color: #E8F0FE;\n",
              "      --fill-color: #1967D2;\n",
              "      --hover-bg-color: #E2EBFA;\n",
              "      --hover-fill-color: #174EA6;\n",
              "      --disabled-fill-color: #AAA;\n",
              "      --disabled-bg-color: #DDD;\n",
              "  }\n",
              "\n",
              "  [theme=dark] .colab-df-quickchart {\n",
              "      --bg-color: #3B4455;\n",
              "      --fill-color: #D2E3FC;\n",
              "      --hover-bg-color: #434B5C;\n",
              "      --hover-fill-color: #FFFFFF;\n",
              "      --disabled-bg-color: #3B4455;\n",
              "      --disabled-fill-color: #666;\n",
              "  }\n",
              "\n",
              "  .colab-df-quickchart {\n",
              "    background-color: var(--bg-color);\n",
              "    border: none;\n",
              "    border-radius: 50%;\n",
              "    cursor: pointer;\n",
              "    display: none;\n",
              "    fill: var(--fill-color);\n",
              "    height: 32px;\n",
              "    padding: 0;\n",
              "    width: 32px;\n",
              "  }\n",
              "\n",
              "  .colab-df-quickchart:hover {\n",
              "    background-color: var(--hover-bg-color);\n",
              "    box-shadow: 0 1px 2px rgba(60, 64, 67, 0.3), 0 1px 3px 1px rgba(60, 64, 67, 0.15);\n",
              "    fill: var(--button-hover-fill-color);\n",
              "  }\n",
              "\n",
              "  .colab-df-quickchart-complete:disabled,\n",
              "  .colab-df-quickchart-complete:disabled:hover {\n",
              "    background-color: var(--disabled-bg-color);\n",
              "    fill: var(--disabled-fill-color);\n",
              "    box-shadow: none;\n",
              "  }\n",
              "\n",
              "  .colab-df-spinner {\n",
              "    border: 2px solid var(--fill-color);\n",
              "    border-color: transparent;\n",
              "    border-bottom-color: var(--fill-color);\n",
              "    animation:\n",
              "      spin 1s steps(1) infinite;\n",
              "  }\n",
              "\n",
              "  @keyframes spin {\n",
              "    0% {\n",
              "      border-color: transparent;\n",
              "      border-bottom-color: var(--fill-color);\n",
              "      border-left-color: var(--fill-color);\n",
              "    }\n",
              "    20% {\n",
              "      border-color: transparent;\n",
              "      border-left-color: var(--fill-color);\n",
              "      border-top-color: var(--fill-color);\n",
              "    }\n",
              "    30% {\n",
              "      border-color: transparent;\n",
              "      border-left-color: var(--fill-color);\n",
              "      border-top-color: var(--fill-color);\n",
              "      border-right-color: var(--fill-color);\n",
              "    }\n",
              "    40% {\n",
              "      border-color: transparent;\n",
              "      border-right-color: var(--fill-color);\n",
              "      border-top-color: var(--fill-color);\n",
              "    }\n",
              "    60% {\n",
              "      border-color: transparent;\n",
              "      border-right-color: var(--fill-color);\n",
              "    }\n",
              "    80% {\n",
              "      border-color: transparent;\n",
              "      border-right-color: var(--fill-color);\n",
              "      border-bottom-color: var(--fill-color);\n",
              "    }\n",
              "    90% {\n",
              "      border-color: transparent;\n",
              "      border-bottom-color: var(--fill-color);\n",
              "    }\n",
              "  }\n",
              "</style>\n",
              "\n",
              "  <script>\n",
              "    async function quickchart(key) {\n",
              "      const quickchartButtonEl =\n",
              "        document.querySelector('#' + key + ' button');\n",
              "      quickchartButtonEl.disabled = true;  // To prevent multiple clicks.\n",
              "      quickchartButtonEl.classList.add('colab-df-spinner');\n",
              "      try {\n",
              "        const charts = await google.colab.kernel.invokeFunction(\n",
              "            'suggestCharts', [key], {});\n",
              "      } catch (error) {\n",
              "        console.error('Error during call to suggestCharts:', error);\n",
              "      }\n",
              "      quickchartButtonEl.classList.remove('colab-df-spinner');\n",
              "      quickchartButtonEl.classList.add('colab-df-quickchart-complete');\n",
              "    }\n",
              "    (() => {\n",
              "      let quickchartButtonEl =\n",
              "        document.querySelector('#df-60c34c5b-f95e-47fd-bd38-ef28e1e1655f button');\n",
              "      quickchartButtonEl.style.display =\n",
              "        google.colab.kernel.accessAllowed ? 'block' : 'none';\n",
              "    })();\n",
              "  </script>\n",
              "</div>\n",
              "\n",
              "    </div>\n",
              "  </div>\n"
            ],
            "application/vnd.google.colaboratory.intrinsic+json": {
              "type": "dataframe",
              "variable_name": "df_results",
              "summary": "{\n  \"name\": \"df_results\",\n  \"rows\": 1080,\n  \"fields\": [\n    {\n      \"column\": \"model\",\n      \"properties\": {\n        \"dtype\": \"string\",\n        \"num_unique_values\": 766,\n        \"samples\": [\n          \"haloregnetz_b\",\n          \"repvgg_a2\",\n          \"pvt_v2_b2_li\"\n        ],\n        \"semantic_type\": \"\",\n        \"description\": \"\"\n      }\n    },\n    {\n      \"column\": \"top1\",\n      \"properties\": {\n        \"dtype\": \"number\",\n        \"std\": 4.49774271197455,\n        \"min\": 57.916,\n        \"max\": 90.052,\n        \"num_unique_values\": 1017,\n        \"samples\": [\n          75.268,\n          88.174,\n          81.838\n        ],\n        \"semantic_type\": \"\",\n        \"description\": \"\"\n      }\n    },\n    {\n      \"column\": \"top1_err\",\n      \"properties\": {\n        \"dtype\": \"number\",\n        \"std\": 4.497742711974549,\n        \"min\": 9.948,\n        \"max\": 42.084,\n        \"num_unique_values\": 1017,\n        \"samples\": [\n          24.732,\n          11.826,\n          18.162\n        ],\n        \"semantic_type\": \"\",\n        \"description\": \"\"\n      }\n    },\n    {\n      \"column\": \"top5\",\n      \"properties\": {\n        \"dtype\": \"number\",\n        \"std\": 2.3495441440935836,\n        \"min\": 80.18,\n        \"max\": 99.048,\n        \"num_unique_values\": 930,\n        \"samples\": [\n          93.73,\n          94.182,\n          98.572\n        ],\n        \"semantic_type\": \"\",\n        \"description\": \"\"\n      }\n    },\n    {\n      \"column\": \"top5_err\",\n      \"properties\": {\n        \"dtype\": \"number\",\n        \"std\": 2.3495441440935836,\n        \"min\": 0.952,\n        \"max\": 19.82,\n        \"num_unique_values\": 930,\n        \"samples\": [\n          6.27,\n          5.818,\n          1.428\n        ],\n        \"semantic_type\": \"\",\n        \"description\": \"\"\n      }\n    },\n    {\n      \"column\": \"param_count\",\n      \"properties\": {\n        \"dtype\": \"string\",\n        \"num_unique_values\": 637,\n        \"samples\": [\n          \"13.49\",\n          \"39.82\",\n          \"197.77\"\n        ],\n        \"semantic_type\": \"\",\n        \"description\": \"\"\n      }\n    },\n    {\n      \"column\": \"img_size\",\n      \"properties\": {\n        \"dtype\": \"number\",\n        \"std\": 77,\n        \"min\": 106,\n        \"max\": 800,\n        \"num_unique_values\": 33,\n        \"samples\": [\n          152,\n          576,\n          331\n        ],\n        \"semantic_type\": \"\",\n        \"description\": \"\"\n      }\n    },\n    {\n      \"column\": \"crop_pct\",\n      \"properties\": {\n        \"dtype\": \"number\",\n        \"std\": 0.05348655697483826,\n        \"min\": 0.875,\n        \"max\": 1.15,\n        \"num_unique_values\": 28,\n        \"samples\": [\n          0.954,\n          0.887,\n          0.956\n        ],\n        \"semantic_type\": \"\",\n        \"description\": \"\"\n      }\n    },\n    {\n      \"column\": \"interpolation\",\n      \"properties\": {\n        \"dtype\": \"category\",\n        \"num_unique_values\": 2,\n        \"samples\": [\n          \"bilinear\",\n          \"bicubic\"\n        ],\n        \"semantic_type\": \"\",\n        \"description\": \"\"\n      }\n    },\n    {\n      \"column\": \"model_org\",\n      \"properties\": {\n        \"dtype\": \"string\",\n        \"num_unique_values\": 1080,\n        \"samples\": [\n          \"swinv2_tiny_window16_256.ms_in1k\",\n          \"cs3sedarknet_l.c2ns_in1k\"\n        ],\n        \"semantic_type\": \"\",\n        \"description\": \"\"\n      }\n    }\n  ]\n}"
            }
          },
          "metadata": {},
          "execution_count": 24
        }
      ]
    },
    {
      "cell_type": "code",
      "source": [
        "def get_data(part, col):\n",
        "    df = pd.read_csv(f'benchmark-{part}-amp-nhwc-pt111-cu113-rtx3090.csv').merge(df_results, on='model')\n",
        "    df['secs'] = 1. / df[col]\n",
        "    df['family'] = df.model.str.extract('^([a-z]+?(?:v2)?)(?:\\d|_|$)')\n",
        "    df = df[~df.model.str.endswith('gn')]\n",
        "    df.loc[df.model.str.contains('in22'),'family'] = df.loc[df.model.str.contains('in22'),'family'] + '_in22'\n",
        "    df.loc[df.model.str.contains('resnet.*d'),'family'] = df.loc[df.model.str.contains('resnet.*d'),'family'] + 'd'\n",
        "    return df[df.family.str.contains('^re[sg]netd?|beit|convnext|levit|efficient|vit|vgg|swin')]"
      ],
      "metadata": {
        "id": "BKsIot4bZ_ZS"
      },
      "execution_count": null,
      "outputs": []
    },
    {
      "cell_type": "code",
      "source": [
        "\n",
        "\n",
        "df = get_data('infer', 'infer_samples_per_sec')\n",
        "\n",
        "\n"
      ],
      "metadata": {
        "id": "Ae4bIAq6aOqY"
      },
      "execution_count": null,
      "outputs": []
    },
    {
      "cell_type": "code",
      "source": [
        "import plotly.express as px\n",
        "w, h = 1000, 800\n"
      ],
      "metadata": {
        "id": "OQHwQZSBaQkO"
      },
      "execution_count": null,
      "outputs": []
    },
    {
      "cell_type": "code",
      "source": [
        "def show_all(df, title, size):\n",
        "  return px.scatter(df, width=w, height=h, size=df[size]**2, title=title, x='secs',\n",
        "  y='top1', log_x=True, color='family', hover_name='model_org', hover_data=[size])"
      ],
      "metadata": {
        "id": "ir1NWZ78ae2n"
      },
      "execution_count": null,
      "outputs": []
    },
    {
      "cell_type": "code",
      "source": [
        "show_all(df, 'Inference', 'infer_img_size')"
      ],
      "metadata": {
        "colab": {
          "base_uri": "https://localhost:8080/",
          "height": 837
        },
        "id": "kA6Du4IZaw3h",
        "outputId": "83489396-9097-4e93-8cb2-62375b42649a"
      },
      "execution_count": null,
      "outputs": [
        {
          "output_type": "display_data",
          "data": {
            "text/html": [
              "<html>\n",
              "<head><meta charset=\"utf-8\" /></head>\n",
              "<body>\n",
              "    <div>            <script src=\"https://cdnjs.cloudflare.com/ajax/libs/mathjax/2.7.5/MathJax.js?config=TeX-AMS-MML_SVG\"></script><script type=\"text/javascript\">if (window.MathJax && window.MathJax.Hub && window.MathJax.Hub.Config) {window.MathJax.Hub.Config({SVG: {font: \"STIX-Web\"}});}</script>                <script type=\"text/javascript\">window.PlotlyConfig = {MathJaxConfig: 'local'};</script>\n",
              "        <script charset=\"utf-8\" src=\"https://cdn.plot.ly/plotly-2.24.1.min.js\"></script>                <div id=\"d571762a-1084-4167-bf7e-b8ea6ccc8c52\" class=\"plotly-graph-div\" style=\"height:800px; width:1000px;\"></div>            <script type=\"text/javascript\">                                    window.PLOTLYENV=window.PLOTLYENV || {};                                    if (document.getElementById(\"d571762a-1084-4167-bf7e-b8ea6ccc8c52\")) {                    Plotly.newPlot(                        \"d571762a-1084-4167-bf7e-b8ea6ccc8c52\",                        [{\"customdata\":[[224],[224],[224],[224],[224]],\"hovertemplate\":\"\\u003cb\\u003e%{hovertext}\\u003c\\u002fb\\u003e\\u003cbr\\u003e\\u003cbr\\u003efamily=levit\\u003cbr\\u003esecs=%{x}\\u003cbr\\u003etop1=%{y}\\u003cbr\\u003esize=%{marker.size}\\u003cbr\\u003einfer_img_size=%{customdata[0]}\\u003cextra\\u003e\\u003c\\u002fextra\\u003e\",\"hovertext\":[\"levit_128s.fb_dist_in1k\",\"levit_128.fb_dist_in1k\",\"levit_192.fb_dist_in1k\",\"levit_256.fb_dist_in1k\",\"levit_384.fb_dist_in1k\"],\"legendgroup\":\"levit\",\"marker\":{\"color\":\"#636efa\",\"size\":[50176,50176,50176,50176,50176],\"sizemode\":\"area\",\"sizeref\":655.36,\"symbol\":\"circle\"},\"mode\":\"markers\",\"name\":\"levit\",\"orientation\":\"v\",\"showlegend\":true,\"x\":[4.654236751715086e-05,6.822292249261998e-05,7.756230968148262e-05,0.00010599687945186893,0.00017720128293728847],\"xaxis\":\"x\",\"y\":[76.526,78.49,79.838,81.524,82.596],\"yaxis\":\"y\",\"type\":\"scatter\"},{\"customdata\":[[224],[224],[224],[224],[224],[224],[224],[224],[224],[224],[224],[224],[224],[224],[224],[224],[224],[224]],\"hovertemplate\":\"\\u003cb\\u003e%{hovertext}\\u003c\\u002fb\\u003e\\u003cbr\\u003e\\u003cbr\\u003efamily=regnetx\\u003cbr\\u003esecs=%{x}\\u003cbr\\u003etop1=%{y}\\u003cbr\\u003esize=%{marker.size}\\u003cbr\\u003einfer_img_size=%{customdata[0]}\\u003cextra\\u003e\\u003c\\u002fextra\\u003e\",\"hovertext\":[\"regnetx_002.pycls_in1k\",\"regnetx_004.pycls_in1k\",\"regnetx_008.tv2_in1k\",\"regnetx_008.pycls_in1k\",\"regnetx_006.pycls_in1k\",\"regnetx_016.tv2_in1k\",\"regnetx_016.pycls_in1k\",\"regnetx_032.tv2_in1k\",\"regnetx_032.pycls_in1k\",\"regnetx_040.pycls_in1k\",\"regnetx_080.tv2_in1k\",\"regnetx_080.pycls_in1k\",\"regnetx_064.pycls_in1k\",\"regnetx_120.pycls_in1k\",\"regnetx_160.tv2_in1k\",\"regnetx_160.pycls_in1k\",\"regnetx_320.tv2_in1k\",\"regnetx_320.pycls_in1k\"],\"legendgroup\":\"regnetx\",\"marker\":{\"color\":\"#EF553B\",\"size\":[50176,50176,50176,50176,50176,50176,50176,50176,50176,50176,50176,50176,50176,50176,50176,50176,50176,50176],\"sizemode\":\"area\",\"sizeref\":655.36,\"symbol\":\"circle\"},\"mode\":\"markers\",\"name\":\"regnetx\",\"orientation\":\"v\",\"showlegend\":true,\"x\":[5.611048828469115e-05,6.925193368711838e-05,0.00011822399190402103,0.00011822399190402103,0.0001259786970023369,0.00026479614668647344,0.00026479614668647344,0.0006228278877415016,0.0006228278877415016,0.0006304057291272663,0.0007938902208602596,0.0007938902208602596,0.0008572212316554657,0.0012854296548621376,0.001604157977477622,0.001604157977477622,0.0038134462113411888,0.0038134462113411888],\"xaxis\":\"x\",\"y\":[68.752,72.402,77.306,75.028,73.868,79.436,76.924,80.926,78.168,78.492,81.54,79.198,79.066,79.588,82.566,79.866,82.81,80.246],\"yaxis\":\"y\",\"type\":\"scatter\"},{\"customdata\":[[224],[224],[224],[224],[224],[224],[224],[288],[288],[288],[288],[288],[224],[224],[288],[288],[288],[288],[224],[224],[224],[224],[224],[288],[288],[288],[288],[288],[288],[288]],\"hovertemplate\":\"\\u003cb\\u003e%{hovertext}\\u003c\\u002fb\\u003e\\u003cbr\\u003e\\u003cbr\\u003efamily=regnety\\u003cbr\\u003esecs=%{x}\\u003cbr\\u003etop1=%{y}\\u003cbr\\u003esize=%{marker.size}\\u003cbr\\u003einfer_img_size=%{customdata[0]}\\u003cextra\\u003e\\u003c\\u002fextra\\u003e\",\"hovertext\":[\"regnety_002.pycls_in1k\",\"regnety_006.pycls_in1k\",\"regnety_004.tv2_in1k\",\"regnety_004.pycls_in1k\",\"regnety_008.pycls_in1k\",\"regnety_016.tv2_in1k\",\"regnety_016.pycls_in1k\",\"regnety_032.ra_in1k\",\"regnety_032.tv2_in1k\",\"regnety_032.pycls_in1k\",\"regnety_040.ra3_in1k\",\"regnety_040.pycls_in1k\",\"regnety_120.sw_in12k_ft_in1k\",\"regnety_120.pycls_in1k\",\"regnety_080.ra3_in1k\",\"regnety_080.pycls_in1k\",\"regnety_064.ra3_in1k\",\"regnety_064.pycls_in1k\",\"regnety_320.swag_ft_in1k\",\"regnety_320.swag_lc_in1k\",\"regnety_320.seer_ft_in1k\",\"regnety_320.tv2_in1k\",\"regnety_320.pycls_in1k\",\"regnety_160.swag_ft_in1k\",\"regnety_160.lion_in12k_ft_in1k\",\"regnety_160.sw_in12k_ft_in1k\",\"regnety_160.swag_lc_in1k\",\"regnety_160.deit_in1k\",\"regnety_160.tv2_in1k\",\"regnety_160.pycls_in1k\"],\"legendgroup\":\"regnety\",\"marker\":{\"color\":\"#00cc96\",\"size\":[50176,50176,50176,50176,50176,50176,50176,82944,82944,82944,82944,82944,50176,50176,82944,82944,82944,82944,50176,50176,50176,50176,50176,82944,82944,82944,82944,82944,82944,82944],\"sizemode\":\"area\",\"sizeref\":655.36,\"symbol\":\"circle\"},\"mode\":\"markers\",\"name\":\"regnety\",\"orientation\":\"v\",\"showlegend\":true,\"x\":[5.9976920880845045e-05,0.00010017450398594352,0.00010468376082691796,0.00010468376082691796,0.00012704688411164372,0.00029335406368716726,0.00029335406368716726,0.0007311277645768598,0.0007311277645768598,0.0007311277645768598,0.0011773986554107355,0.0011773986554107355,0.0013256445946841651,0.0013256445946841651,0.0018643499011894553,0.0018643499011894553,0.0021192726656211586,0.0021192726656211586,0.002407666008571291,0.002407666008571291,0.002407666008571291,0.002407666008571291,0.002407666008571291,0.0024128362890577875,0.0024128362890577875,0.0024128362890577875,0.0024128362890577875,0.0024128362890577875,0.0024128362890577875,0.0024128362890577875],\"xaxis\":\"x\",\"y\":[70.28,75.268,75.594,74.026,76.302,80.666,77.868,82.726,81.756,78.876,83.044,79.22,85.4,80.38,83.926,79.868,83.72,79.716,86.834,84.548,83.328,83.162,80.81,86.02,85.988,85.986,83.782,83.69,82.646,80.298],\"yaxis\":\"y\",\"type\":\"scatter\"},{\"customdata\":[[224],[224],[224],[224],[224],[224],[384],[224],[224],[384],[224],[384],[384],[384],[224],[224],[224],[224],[224],[224],[224],[384],[384],[384],[384],[224],[384],[384],[384],[384],[224],[224],[384],[384]],\"hovertemplate\":\"\\u003cb\\u003e%{hovertext}\\u003c\\u002fb\\u003e\\u003cbr\\u003e\\u003cbr\\u003efamily=vit\\u003cbr\\u003esecs=%{x}\\u003cbr\\u003etop1=%{y}\\u003cbr\\u003esize=%{marker.size}\\u003cbr\\u003einfer_img_size=%{customdata[0]}\\u003cextra\\u003e\\u003c\\u002fextra\\u003e\",\"hovertext\":[\"vit_small_patch32_224.augreg_in21k_ft_in1k\",\"vit_tiny_r_s16_p8_224.augreg_in21k_ft_in1k\",\"vit_tiny_patch16_224.augreg_in21k_ft_in1k\",\"vit_base_patch32_224.augreg_in21k_ft_in1k\",\"vit_base_patch32_224.augreg_in1k\",\"vit_base_patch32_224.sam_in1k\",\"vit_small_patch32_384.augreg_in21k_ft_in1k\",\"vit_small_patch16_224.augreg_in21k_ft_in1k\",\"vit_small_patch16_224.augreg_in1k\",\"vit_tiny_r_s16_p8_384.augreg_in21k_ft_in1k\",\"vit_small_r26_s32_224.augreg_in21k_ft_in1k\",\"vit_tiny_patch16_384.augreg_in21k_ft_in1k\",\"vit_base_patch32_384.augreg_in21k_ft_in1k\",\"vit_base_patch32_384.augreg_in1k\",\"vit_base_patch16_224_miil.in21k_ft_in1k\",\"vit_base_patch16_224.augreg2_in21k_ft_in1k\",\"vit_base_patch16_224.augreg_in21k_ft_in1k\",\"vit_base_patch16_224.orig_in21k_ft_in1k\",\"vit_base_patch16_224.sam_in1k\",\"vit_base_patch16_224.augreg_in1k\",\"vit_large_r50_s32_224.augreg_in21k_ft_in1k\",\"vit_small_patch16_384.augreg_in21k_ft_in1k\",\"vit_small_patch16_384.augreg_in1k\",\"vit_small_r26_s32_384.augreg_in21k_ft_in1k\",\"vit_large_patch32_384.orig_in21k_ft_in1k\",\"vit_large_patch16_224.augreg_in21k_ft_in1k\",\"vit_base_patch16_384.augreg_in21k_ft_in1k\",\"vit_base_patch16_384.orig_in21k_ft_in1k\",\"vit_base_patch16_384.augreg_in1k\",\"vit_large_r50_s32_384.augreg_in21k_ft_in1k\",\"vit_base_patch8_224.augreg2_in21k_ft_in1k\",\"vit_base_patch8_224.augreg_in21k_ft_in1k\",\"vit_base_r50_s16_384.orig_in21k_ft_in1k\",\"vit_large_patch16_384.augreg_in21k_ft_in1k\"],\"legendgroup\":\"vit\",\"marker\":{\"color\":\"#ab63fa\",\"size\":[50176,50176,50176,50176,50176,50176,147456,50176,50176,147456,50176,147456,147456,147456,50176,50176,50176,50176,50176,50176,50176,147456,147456,147456,147456,50176,147456,147456,147456,147456,50176,50176,147456,147456],\"sizemode\":\"area\",\"sizeref\":655.36,\"symbol\":\"circle\"},\"mode\":\"markers\",\"name\":\"vit\",\"orientation\":\"v\",\"showlegend\":true,\"x\":[8.26542597112556e-05,0.00010105327831992861,0.0001606500543800434,0.00023169601482854495,0.00023169601482854495,0.00023169601482854495,0.0002629917946560067,0.0003523347461956656,0.0003523347461956656,0.0003702675182819587,0.0005623284898106078,0.0006846126461648,0.0007257578726585237,0.0007257578726585237,0.0009018027036045053,0.0009315670821455853,0.0009315670821455853,0.0009315670821455853,0.0009315670821455853,0.0009315670821455853,0.0013855980934170233,0.0014628865677755345,0.0014628865677755345,0.0017152952880838436,0.002085723224528105,0.0028202380280895707,0.0036026948157221604,0.0036026948157221604,0.0036026948157221604,0.004231729507849859,0.005465078150617554,0.005465078150617554,0.005822416302765648,0.010594342621040365],\"xaxis\":\"x\",\"y\":[75.994,71.798,75.462,80.716,74.894,73.694,80.486,81.386,78.848,75.96,81.864,78.424,83.352,78.756,84.266,85.094,84.532,81.79,80.238,79.154,84.418,83.804,81.116,84.048,81.51,85.836,85.994,84.2,81.102,86.182,86.218,85.798,84.976,87.084],\"yaxis\":\"y\",\"type\":\"scatter\"},{\"customdata\":[[224],[224],[224],[224],[224],[224],[224],[224],[224],[224],[224],[224],[224],[224],[256],[224],[224],[224],[224],[224],[224],[224],[224],[224],[224],[224],[224],[224],[224],[224],[224],[224],[224],[256],[256],[224],[224],[224],[224],[224],[224],[224],[288],[288],[224],[224],[224],[224],[224],[224],[224]],\"hovertemplate\":\"\\u003cb\\u003e%{hovertext}\\u003c\\u002fb\\u003e\\u003cbr\\u003e\\u003cbr\\u003efamily=resnet\\u003cbr\\u003esecs=%{x}\\u003cbr\\u003etop1=%{y}\\u003cbr\\u003esize=%{marker.size}\\u003cbr\\u003einfer_img_size=%{customdata[0]}\\u003cextra\\u003e\\u003c\\u002fextra\\u003e\",\"hovertext\":[\"resnet18.fb_swsl_ig1b_ft_in1k\",\"resnet18.a1_in1k\",\"resnet18.fb_ssl_yfcc100m_ft_in1k\",\"resnet18.a2_in1k\",\"resnet18.gluon_in1k\",\"resnet18.tv_in1k\",\"resnet18.a3_in1k\",\"resnet34.a1_in1k\",\"resnet34.a2_in1k\",\"resnet34.bt_in1k\",\"resnet34.gluon_in1k\",\"resnet34.tv_in1k\",\"resnet34.a3_in1k\",\"resnet26.bt_in1k\",\"resnet26t.ra2_in1k\",\"resnet50.a1_in1k\",\"resnet50.fb_swsl_ig1b_ft_in1k\",\"resnet50.d_in1k\",\"resnet50.c1_in1k\",\"resnet50.c2_in1k\",\"resnet50.tv2_in1k\",\"resnet50.a2_in1k\",\"resnet50.b1k_in1k\",\"resnet50.a1h_in1k\",\"resnet50.b2k_in1k\",\"resnet50.ram_in1k\",\"resnet50.ra_in1k\",\"resnet50.bt_in1k\",\"resnet50.fb_ssl_yfcc100m_ft_in1k\",\"resnet50.am_in1k\",\"resnet50.a3_in1k\",\"resnet50.gluon_in1k\",\"resnet50.tv_in1k\",\"resnet32ts.ra2_in1k\",\"resnet33ts.ra2_in1k\",\"resnet101.a1h_in1k\",\"resnet101.a1_in1k\",\"resnet101.a2_in1k\",\"resnet101.tv2_in1k\",\"resnet101.a3_in1k\",\"resnet101.gluon_in1k\",\"resnet101.tv_in1k\",\"resnet51q.ra2_in1k\",\"resnet61q.ra2_in1k\",\"resnet152.a1h_in1k\",\"resnet152.a1_in1k\",\"resnet152.a2_in1k\",\"resnet152.tv2_in1k\",\"resnet152.a3_in1k\",\"resnet152.gluon_in1k\",\"resnet152.tv_in1k\"],\"legendgroup\":\"resnet\",\"marker\":{\"color\":\"#FFA15A\",\"size\":[50176,50176,50176,50176,50176,50176,50176,50176,50176,50176,50176,50176,50176,50176,65536,50176,50176,50176,50176,50176,50176,50176,50176,50176,50176,50176,50176,50176,50176,50176,50176,50176,50176,65536,65536,50176,50176,50176,50176,50176,50176,50176,82944,82944,50176,50176,50176,50176,50176,50176,50176],\"sizemode\":\"area\",\"sizeref\":655.36,\"symbol\":\"circle\"},\"mode\":\"markers\",\"name\":\"resnet\",\"orientation\":\"v\",\"showlegend\":true,\"x\":[9.236979323021786e-05,9.236979323021786e-05,9.236979323021786e-05,9.236979323021786e-05,9.236979323021786e-05,9.236979323021786e-05,9.236979323021786e-05,0.00015969338869370808,0.00015969338869370808,0.00015969338869370808,0.00015969338869370808,0.00015969338869370808,0.00015969338869370808,0.00017561482751111642,0.0002638710409448694,0.00028338807446305045,0.00028338807446305045,0.00028338807446305045,0.00028338807446305045,0.00028338807446305045,0.00028338807446305045,0.00028338807446305045,0.00028338807446305045,0.00028338807446305045,0.00028338807446305045,0.00028338807446305045,0.00028338807446305045,0.00028338807446305045,0.00028338807446305045,0.00028338807446305045,0.00028338807446305045,0.00028338807446305045,0.00028338807446305045,0.00029286350217890445,0.00029674294938752255,0.00046063207933926936,0.00046063207933926936,0.00046063207933926936,0.00046063207933926936,0.00046063207933926936,0.00046063207933926936,0.00046063207933926936,0.000534896657965681,0.0005959830740806961,0.0006634335339114052,0.0006634335339114052,0.0006634335339114052,0.0006634335339114052,0.0006634335339114052,0.0006634335339114052,0.0006634335339114052],\"xaxis\":\"x\",\"y\":[73.288,73.158,72.598,72.372,70.834,69.76,68.252,77.918,77.158,76.48,74.58,73.306,72.97,76.366,78.328,81.214,81.172,80.972,80.912,80.87,80.848,80.772,80.706,80.678,80.454,79.976,79.836,79.64,79.23,79.002,78.048,77.582,76.128,79.388,79.726,82.778,82.322,82.236,81.888,79.814,79.31,77.38,82.36,82.524,83.45,82.732,82.608,82.286,80.546,79.696,78.322],\"yaxis\":\"y\",\"type\":\"scatter\"},{\"customdata\":[[224],[224],[240],[224],[224],[256],[260],[240],[288],[300],[320],[300],[300],[384],[456]],\"hovertemplate\":\"\\u003cb\\u003e%{hovertext}\\u003c\\u002fb\\u003e\\u003cbr\\u003e\\u003cbr\\u003efamily=efficientnet\\u003cbr\\u003esecs=%{x}\\u003cbr\\u003etop1=%{y}\\u003cbr\\u003esize=%{marker.size}\\u003cbr\\u003einfer_img_size=%{customdata[0]}\\u003cextra\\u003e\\u003c\\u002fextra\\u003e\",\"hovertext\":[\"efficientnet_lite0.ra_in1k\",\"efficientnet_b0.ra_in1k\",\"efficientnet_b1_pruned.in1k\",\"efficientnet_es.ra_in1k\",\"efficientnet_es_pruned.in1k\",\"efficientnet_b1.ft_in1k\",\"efficientnet_b2_pruned.in1k\",\"efficientnet_em.ra2_in1k\",\"efficientnet_b2.ra_in1k\",\"efficientnet_b3_pruned.in1k\",\"efficientnet_b3.ra2_in1k\",\"efficientnet_el.ra_in1k\",\"efficientnet_el_pruned.in1k\",\"efficientnet_b4.ra2_in1k\",\"efficientnet_b5.sw_in12k_ft_in1k\"],\"legendgroup\":\"efficientnet\",\"marker\":{\"color\":\"#19d3f3\",\"size\":[50176,50176,57600,50176,50176,65536,67600,57600,82944,90000,102400,90000,90000,147456,207936],\"sizemode\":\"area\",\"sizeref\":655.36,\"symbol\":\"circle\"},\"mode\":\"markers\",\"name\":\"efficientnet\",\"orientation\":\"v\",\"showlegend\":true,\"x\":[0.00011112172940969915,0.0001301779923689661,0.00016600486062231902,0.00017507769072525934,0.00017510804166170527,0.00024378530315921374,0.0002616848842960284,0.0002911538719097656,0.00032120258246876303,0.00032275451614256713,0.000539647933688062,0.0006642355645005945,0.0006644474123095528,0.0010264938051098862,0.0021380313007782433],\"xaxis\":\"x\",\"y\":[75.482,77.694,78.24,78.058,75.006,78.8,79.92,79.244,80.61,80.852,82.246,81.312,80.298,83.414,85.896],\"yaxis\":\"y\",\"type\":\"scatter\"},{\"customdata\":[[224],[224],[224],[224],[224],[224],[224],[224],[320],[320],[320],[320],[320]],\"hovertemplate\":\"\\u003cb\\u003e%{hovertext}\\u003c\\u002fb\\u003e\\u003cbr\\u003e\\u003cbr\\u003efamily=resnetd\\u003cbr\\u003esecs=%{x}\\u003cbr\\u003etop1=%{y}\\u003cbr\\u003esize=%{marker.size}\\u003cbr\\u003einfer_img_size=%{customdata[0]}\\u003cextra\\u003e\\u003c\\u002fextra\\u003e\",\"hovertext\":[\"resnet18d.ra2_in1k\",\"resnet34d.ra2_in1k\",\"resnet26d.bt_in1k\",\"resnet50d.a1_in1k\",\"resnet50d.ra2_in1k\",\"resnet50d.a2_in1k\",\"resnet50d.gluon_in1k\",\"resnet50d.a3_in1k\",\"resnet101d.ra2_in1k\",\"resnet101d.gluon_in1k\",\"resnet152d.ra2_in1k\",\"resnet152d.gluon_in1k\",\"resnet200d.ra2_in1k\"],\"legendgroup\":\"resnetd\",\"marker\":{\"color\":\"#FF6692\",\"size\":[50176,50176,50176,50176,50176,50176,50176,50176,102400,102400,102400,102400,102400],\"sizemode\":\"area\",\"sizeref\":655.36,\"symbol\":\"circle\"},\"mode\":\"markers\",\"name\":\"resnetd\",\"orientation\":\"v\",\"showlegend\":true,\"x\":[0.00011218547400045547,0.00017947263760167124,0.0002044542400742578,0.00031235065734195835,0.00031235065734195835,0.00031235065734195835,0.00031235065734195835,0.00031235065734195835,0.0010008807750820723,0.0010008807750820723,0.0014054023666975855,0.0014054023666975855,0.0019066503965832825],\"xaxis\":\"x\",\"y\":[73.794,78.436,77.408,81.45,81.356,81.164,79.078,78.72,83.02,80.426,83.684,80.476,83.964],\"yaxis\":\"y\",\"type\":\"scatter\"},{\"customdata\":[[256],[256],[256]],\"hovertemplate\":\"\\u003cb\\u003e%{hovertext}\\u003c\\u002fb\\u003e\\u003cbr\\u003e\\u003cbr\\u003efamily=mobilevit\\u003cbr\\u003esecs=%{x}\\u003cbr\\u003etop1=%{y}\\u003cbr\\u003esize=%{marker.size}\\u003cbr\\u003einfer_img_size=%{customdata[0]}\\u003cextra\\u003e\\u003c\\u002fextra\\u003e\",\"hovertext\":[\"mobilevit_xxs.cvnets_in1k\",\"mobilevit_xs.cvnets_in1k\",\"mobilevit_s.cvnets_in1k\"],\"legendgroup\":\"mobilevit\",\"marker\":{\"color\":\"#B6E880\",\"size\":[65536,65536,65536],\"sizemode\":\"area\",\"sizeref\":655.36,\"symbol\":\"circle\"},\"mode\":\"markers\",\"name\":\"mobilevit\",\"orientation\":\"v\",\"showlegend\":true,\"x\":[0.00019510063290645313,0.00032276493352656195,0.0004140683875348853],\"xaxis\":\"x\",\"y\":[68.918,74.634,78.312],\"yaxis\":\"y\",\"type\":\"scatter\"},{\"customdata\":[[224],[224],[224],[224],[224],[224],[224],[224]],\"hovertemplate\":\"\\u003cb\\u003e%{hovertext}\\u003c\\u002fb\\u003e\\u003cbr\\u003e\\u003cbr\\u003efamily=repvgg\\u003cbr\\u003esecs=%{x}\\u003cbr\\u003etop1=%{y}\\u003cbr\\u003esize=%{marker.size}\\u003cbr\\u003einfer_img_size=%{customdata[0]}\\u003cextra\\u003e\\u003c\\u002fextra\\u003e\",\"hovertext\":[\"repvgg_b0.rvgg_in1k\",\"repvgg_a2.rvgg_in1k\",\"repvgg_b1.rvgg_in1k\",\"repvgg_b1g4.rvgg_in1k\",\"repvgg_b2.rvgg_in1k\",\"repvgg_b3.rvgg_in1k\",\"repvgg_b2g4.rvgg_in1k\",\"repvgg_b3g4.rvgg_in1k\"],\"legendgroup\":\"repvgg\",\"marker\":{\"color\":\"#FF97FF\",\"size\":[50176,50176,50176,50176,50176,50176,50176,50176],\"sizemode\":\"area\",\"sizeref\":655.36,\"symbol\":\"circle\"},\"mode\":\"markers\",\"name\":\"repvgg\",\"orientation\":\"v\",\"showlegend\":true,\"x\":[0.00019805588344807372,0.00025848743492578826,0.0005164995790528431,0.0006192755714365336,0.0008039813154742284,0.0009981932701809725,0.0012302090125112257,0.0015526503741887404],\"xaxis\":\"x\",\"y\":[75.144,76.458,78.368,77.588,78.792,80.506,79.382,80.216],\"yaxis\":\"y\",\"type\":\"scatter\"},{\"customdata\":[[240],[240],[240],[240],[240],[240],[240],[240],[240],[408],[408]],\"hovertemplate\":\"\\u003cb\\u003e%{hovertext}\\u003c\\u002fb\\u003e\\u003cbr\\u003e\\u003cbr\\u003efamily=crossvit\\u003cbr\\u003esecs=%{x}\\u003cbr\\u003etop1=%{y}\\u003cbr\\u003esize=%{marker.size}\\u003cbr\\u003einfer_img_size=%{customdata[0]}\\u003cextra\\u003e\\u003c\\u002fextra\\u003e\",\"hovertext\":[\"crossvit_tiny_240.in1k\",\"crossvit_9_240.in1k\",\"crossvit_9_dagger_240.in1k\",\"crossvit_small_240.in1k\",\"crossvit_15_240.in1k\",\"crossvit_15_dagger_240.in1k\",\"crossvit_18_240.in1k\",\"crossvit_18_dagger_240.in1k\",\"crossvit_base_240.in1k\",\"crossvit_15_dagger_408.in1k\",\"crossvit_18_dagger_408.in1k\"],\"legendgroup\":\"crossvit\",\"marker\":{\"color\":\"#FECB52\",\"size\":[57600,57600,57600,57600,57600,57600,57600,57600,57600,166464,166464],\"sizemode\":\"area\",\"sizeref\":655.36,\"symbol\":\"circle\"},\"mode\":\"markers\",\"name\":\"crossvit\",\"orientation\":\"v\",\"showlegend\":true,\"x\":[0.00025943432938820195,0.0002746551018558445,0.0002807190900209978,0.0005422640609070993,0.0005881107530170082,0.0006054331571522846,0.0008294969101240098,0.0008531185749507324,0.0013383297644539614,0.002823662289990117,0.0038593647485623862],\"xaxis\":\"x\",\"y\":[73.34,73.96,76.978,81.018,81.536,82.33,82.4,82.518,82.214,83.84,84.202],\"yaxis\":\"y\",\"type\":\"scatter\"},{\"customdata\":[[224],[224]],\"hovertemplate\":\"\\u003cb\\u003e%{hovertext}\\u003c\\u002fb\\u003e\\u003cbr\\u003e\\u003cbr\\u003efamily=resnetv2\\u003cbr\\u003esecs=%{x}\\u003cbr\\u003etop1=%{y}\\u003cbr\\u003esize=%{marker.size}\\u003cbr\\u003einfer_img_size=%{customdata[0]}\\u003cextra\\u003e\\u003c\\u002fextra\\u003e\",\"hovertext\":[\"resnetv2_50.a1h_in1k\",\"resnetv2_101.a1h_in1k\"],\"legendgroup\":\"resnetv2\",\"marker\":{\"color\":\"#636efa\",\"size\":[50176,50176],\"sizemode\":\"area\",\"sizeref\":655.36,\"symbol\":\"circle\"},\"mode\":\"markers\",\"name\":\"resnetv2\",\"orientation\":\"v\",\"showlegend\":true,\"x\":[0.00027003891260730673,0.0004473172150030194],\"xaxis\":\"x\",\"y\":[81.398,83.0],\"yaxis\":\"y\",\"type\":\"scatter\"},{\"customdata\":[[224],[224],[224]],\"hovertemplate\":\"\\u003cb\\u003e%{hovertext}\\u003c\\u002fb\\u003e\\u003cbr\\u003e\\u003cbr\\u003efamily=convit\\u003cbr\\u003esecs=%{x}\\u003cbr\\u003etop1=%{y}\\u003cbr\\u003esize=%{marker.size}\\u003cbr\\u003einfer_img_size=%{customdata[0]}\\u003cextra\\u003e\\u003c\\u002fextra\\u003e\",\"hovertext\":[\"convit_tiny.fb_in1k\",\"convit_small.fb_in1k\",\"convit_base.fb_in1k\"],\"legendgroup\":\"convit\",\"marker\":{\"color\":\"#EF553B\",\"size\":[50176,50176,50176],\"sizemode\":\"area\",\"sizeref\":655.36,\"symbol\":\"circle\"},\"mode\":\"markers\",\"name\":\"convit\",\"orientation\":\"v\",\"showlegend\":true,\"x\":[0.0003142578800163414,0.0007307163943530237,0.0014544608313698112],\"xaxis\":\"x\",\"y\":[73.112,81.42,82.29],\"yaxis\":\"y\",\"type\":\"scatter\"},{\"customdata\":[[224],[224]],\"hovertemplate\":\"\\u003cb\\u003e%{hovertext}\\u003c\\u002fb\\u003e\\u003cbr\\u003e\\u003cbr\\u003efamily=resnetaad\\u003cbr\\u003esecs=%{x}\\u003cbr\\u003etop1=%{y}\\u003cbr\\u003esize=%{marker.size}\\u003cbr\\u003einfer_img_size=%{customdata[0]}\\u003cextra\\u003e\\u003c\\u002fextra\\u003e\",\"hovertext\":[\"resnetaa50d.sw_in12k_ft_in1k\",\"resnetaa101d.sw_in12k_ft_in1k\"],\"legendgroup\":\"resnetaad\",\"marker\":{\"color\":\"#00cc96\",\"size\":[50176,50176],\"sizemode\":\"area\",\"sizeref\":655.36,\"symbol\":\"circle\"},\"mode\":\"markers\",\"name\":\"resnetaad\",\"orientation\":\"v\",\"showlegend\":true,\"x\":[0.00034852799202567954,0.0005280918457338101],\"xaxis\":\"x\",\"y\":[82.6,84.124],\"yaxis\":\"y\",\"type\":\"scatter\"},{\"customdata\":[[224],[288],[320],[320],[352],[384],[416]],\"hovertemplate\":\"\\u003cb\\u003e%{hovertext}\\u003c\\u002fb\\u003e\\u003cbr\\u003e\\u003cbr\\u003efamily=resnetrs\\u003cbr\\u003esecs=%{x}\\u003cbr\\u003etop1=%{y}\\u003cbr\\u003esize=%{marker.size}\\u003cbr\\u003einfer_img_size=%{customdata[0]}\\u003cextra\\u003e\\u003c\\u002fextra\\u003e\",\"hovertext\":[\"resnetrs50.tf_in1k\",\"resnetrs101.tf_in1k\",\"resnetrs152.tf_in1k\",\"resnetrs200.tf_in1k\",\"resnetrs270.tf_in1k\",\"resnetrs350.tf_in1k\",\"resnetrs420.tf_in1k\"],\"legendgroup\":\"resnetrs\",\"marker\":{\"color\":\"#ab63fa\",\"size\":[50176,82944,102400,102400,123904,147456,173056],\"sizemode\":\"area\",\"sizeref\":655.36,\"symbol\":\"circle\"},\"mode\":\"markers\",\"name\":\"resnetrs\",\"orientation\":\"v\",\"showlegend\":true,\"x\":[0.000351576645466595,0.0009125586318920991,0.0015921792156925183,0.0021917327839389824,0.0034781398907864076,0.005297171310520182,0.007450454477723141],\"xaxis\":\"x\",\"y\":[79.894,82.284,83.702,84.444,84.428,84.714,85.004],\"yaxis\":\"y\",\"type\":\"scatter\"},{\"customdata\":[[288],[320],[320],[320],[320],[320],[320],[320]],\"hovertemplate\":\"\\u003cb\\u003e%{hovertext}\\u003c\\u002fb\\u003e\\u003cbr\\u003e\\u003cbr\\u003efamily=regnetz\\u003cbr\\u003esecs=%{x}\\u003cbr\\u003etop1=%{y}\\u003cbr\\u003esize=%{marker.size}\\u003cbr\\u003einfer_img_size=%{customdata[0]}\\u003cextra\\u003e\\u003c\\u002fextra\\u003e\",\"hovertext\":[\"regnetz_b16.ra3_in1k\",\"regnetz_c16.ra3_in1k\",\"regnetz_d8.ra3_in1k\",\"regnetz_040.ra3_in1k\",\"regnetz_d32.ra3_in1k\",\"regnetz_e8.ra3_in1k\",\"regnetz_c16_evos.ch_in1k\",\"regnetz_d8_evos.ch_in1k\"],\"legendgroup\":\"regnetz\",\"marker\":{\"color\":\"#FFA15A\",\"size\":[82944,102400,102400,102400,102400,102400,102400,102400],\"sizemode\":\"area\",\"sizeref\":655.36,\"symbol\":\"circle\"},\"mode\":\"markers\",\"name\":\"regnetz\",\"orientation\":\"v\",\"showlegend\":true,\"x\":[0.00036824952587873543,0.0005641494319015222,0.0008748829844008363,0.000961917679085024,0.0009901872444079175,0.0016463344363774057,0.00167117884956048,0.002579646588417387],\"xaxis\":\"x\",\"y\":[80.728,82.632,84.052,84.24,84.022,85.034,82.636,84.126],\"yaxis\":\"y\",\"type\":\"scatter\"},{\"customdata\":[[224]],\"hovertemplate\":\"\\u003cb\\u003e%{hovertext}\\u003c\\u002fb\\u003e\\u003cbr\\u003e\\u003cbr\\u003efamily=resnetblur\\u003cbr\\u003esecs=%{x}\\u003cbr\\u003etop1=%{y}\\u003cbr\\u003esize=%{marker.size}\\u003cbr\\u003einfer_img_size=%{customdata[0]}\\u003cextra\\u003e\\u003c\\u002fextra\\u003e\",\"hovertext\":[\"resnetblur50.bt_in1k\"],\"legendgroup\":\"resnetblur\",\"marker\":{\"color\":\"#19d3f3\",\"size\":[50176],\"sizemode\":\"area\",\"sizeref\":655.36,\"symbol\":\"circle\"},\"mode\":\"markers\",\"name\":\"resnetblur\",\"orientation\":\"v\",\"showlegend\":true,\"x\":[0.00038181346121538863],\"xaxis\":\"x\",\"y\":[80.234],\"yaxis\":\"y\",\"type\":\"scatter\"},{\"customdata\":[[224],[224],[224],[224],[224],[224],[224]],\"hovertemplate\":\"\\u003cb\\u003e%{hovertext}\\u003c\\u002fb\\u003e\\u003cbr\\u003e\\u003cbr\\u003efamily=vgg\\u003cbr\\u003esecs=%{x}\\u003cbr\\u003etop1=%{y}\\u003cbr\\u003esize=%{marker.size}\\u003cbr\\u003einfer_img_size=%{customdata[0]}\\u003cextra\\u003e\\u003c\\u002fextra\\u003e\",\"hovertext\":[\"vgg11_bn.tv_in1k\",\"vgg13.tv_in1k\",\"vgg13_bn.tv_in1k\",\"vgg16.tv_in1k\",\"vgg19.tv_in1k\",\"vgg16_bn.tv_in1k\",\"vgg19_bn.tv_in1k\"],\"legendgroup\":\"vgg\",\"marker\":{\"color\":\"#FF6692\",\"size\":[50176,50176,50176,50176,50176,50176,50176],\"sizemode\":\"area\",\"sizeref\":655.36,\"symbol\":\"circle\"},\"mode\":\"markers\",\"name\":\"vgg\",\"orientation\":\"v\",\"showlegend\":true,\"x\":[0.0003856239395341663,0.000495051955702751,0.000609002271578473,0.00061273383454961,0.0007314379338341244,0.0007335465508641178,0.0008591212907438273],\"xaxis\":\"x\",\"y\":[70.382,69.932,71.588,71.592,72.378,73.37,74.216],\"yaxis\":\"y\",\"type\":\"scatter\"},{\"customdata\":[[288],[384],[416]],\"hovertemplate\":\"\\u003cb\\u003e%{hovertext}\\u003c\\u002fb\\u003e\\u003cbr\\u003e\\u003cbr\\u003efamily=efficientnetv2\\u003cbr\\u003esecs=%{x}\\u003cbr\\u003etop1=%{y}\\u003cbr\\u003esize=%{marker.size}\\u003cbr\\u003einfer_img_size=%{customdata[0]}\\u003cextra\\u003e\\u003c\\u002fextra\\u003e\",\"hovertext\":[\"efficientnetv2_rw_t.ra2_in1k\",\"efficientnetv2_rw_s.ra2_in1k\",\"efficientnetv2_rw_m.agc_in1k\"],\"legendgroup\":\"efficientnetv2\",\"marker\":{\"color\":\"#B6E880\",\"size\":[82944,147456,173056],\"sizemode\":\"area\",\"sizeref\":655.36,\"symbol\":\"circle\"},\"mode\":\"markers\",\"name\":\"efficientnetv2\",\"orientation\":\"v\",\"showlegend\":true,\"x\":[0.00039287790926091805,0.0009177342975661686,0.0025433643623785545],\"xaxis\":\"x\",\"y\":[82.35,83.806,84.81],\"yaxis\":\"y\",\"type\":\"scatter\"},{\"customdata\":[[224],[224],[224],[224],[224],[224],[224],[224],[224],[224],[224],[224],[224],[224],[224],[224],[224],[224],[224],[224],[224]],\"hovertemplate\":\"\\u003cb\\u003e%{hovertext}\\u003c\\u002fb\\u003e\\u003cbr\\u003e\\u003cbr\\u003efamily=convnext\\u003cbr\\u003esecs=%{x}\\u003cbr\\u003etop1=%{y}\\u003cbr\\u003esize=%{marker.size}\\u003cbr\\u003einfer_img_size=%{customdata[0]}\\u003cextra\\u003e\\u003c\\u002fextra\\u003e\",\"hovertext\":[\"convnext_tiny.in12k_ft_in1k_384\",\"convnext_tiny.in12k_ft_in1k\",\"convnext_tiny.fb_in22k_ft_in1k_384\",\"convnext_tiny.fb_in1k\",\"convnext_tiny.fb_in22k_ft_in1k\",\"convnext_tiny_hnf.a2h_in1k\",\"convnext_small.in12k_ft_in1k_384\",\"convnext_small.fb_in22k_ft_in1k_384\",\"convnext_small.in12k_ft_in1k\",\"convnext_small.fb_in22k_ft_in1k\",\"convnext_small.fb_in1k\",\"convnext_base.clip_laion2b_augreg_ft_in12k_in1k_384\",\"convnext_base.fb_in22k_ft_in1k_384\",\"convnext_base.clip_laiona_augreg_ft_in1k_384\",\"convnext_base.clip_laion2b_augreg_ft_in12k_in1k\",\"convnext_base.fb_in22k_ft_in1k\",\"convnext_base.clip_laion2b_augreg_ft_in1k\",\"convnext_base.fb_in1k\",\"convnext_large.fb_in22k_ft_in1k_384\",\"convnext_large.fb_in22k_ft_in1k\",\"convnext_large.fb_in1k\"],\"legendgroup\":\"convnext\",\"marker\":{\"color\":\"#FF97FF\",\"size\":[50176,50176,50176,50176,50176,50176,50176,50176,50176,50176,50176,50176,50176,50176,50176,50176,50176,50176,50176,50176,50176],\"sizemode\":\"area\",\"sizeref\":655.36,\"symbol\":\"circle\"},\"mode\":\"markers\",\"name\":\"convnext\",\"orientation\":\"v\",\"showlegend\":true,\"x\":[0.00043947351073414054,0.00043947351073414054,0.00043947351073414054,0.00043947351073414054,0.00043947351073414054,0.00048231356169272765,0.0007089131652263915,0.0007089131652263915,0.0007089131652263915,0.0007089131652263915,0.0007089131652263915,0.001017356094980365,0.001017356094980365,0.001017356094980365,0.001017356094980365,0.001017356094980365,0.001017356094980365,0.001017356094980365,0.001837424665588711,0.001837424665588711,0.001837424665588711],\"xaxis\":\"x\",\"y\":[85.122,84.45,84.088,82.698,78.898,82.584,86.182,85.778,85.33,85.262,83.7,87.134,86.796,86.502,86.37,86.274,86.158,84.428,87.472,87.026,84.846],\"yaxis\":\"y\",\"type\":\"scatter\"},{\"customdata\":[[224],[224],[224],[224],[224],[224],[224],[224],[224],[224],[384],[384],[384]],\"hovertemplate\":\"\\u003cb\\u003e%{hovertext}\\u003c\\u002fb\\u003e\\u003cbr\\u003e\\u003cbr\\u003efamily=swin\\u003cbr\\u003esecs=%{x}\\u003cbr\\u003etop1=%{y}\\u003cbr\\u003esize=%{marker.size}\\u003cbr\\u003einfer_img_size=%{customdata[0]}\\u003cextra\\u003e\\u003c\\u002fextra\\u003e\",\"hovertext\":[\"swin_tiny_patch4_window7_224.ms_in1k\",\"swin_tiny_patch4_window7_224.ms_in22k_ft_in1k\",\"swin_s3_tiny_224.ms_in1k\",\"swin_small_patch4_window7_224.ms_in22k_ft_in1k\",\"swin_small_patch4_window7_224.ms_in1k\",\"swin_s3_small_224.ms_in1k\",\"swin_base_patch4_window7_224.ms_in22k_ft_in1k\",\"swin_base_patch4_window7_224.ms_in1k\",\"swin_s3_base_224.ms_in1k\",\"swin_large_patch4_window7_224.ms_in22k_ft_in1k\",\"swin_base_patch4_window12_384.ms_in22k_ft_in1k\",\"swin_base_patch4_window12_384.ms_in1k\",\"swin_large_patch4_window12_384.ms_in22k_ft_in1k\"],\"legendgroup\":\"swin\",\"marker\":{\"color\":\"#FECB52\",\"size\":[50176,50176,50176,50176,50176,50176,50176,50176,50176,50176,147456,147456,147456],\"sizemode\":\"area\",\"sizeref\":655.36,\"symbol\":\"circle\"},\"mode\":\"markers\",\"name\":\"swin\",\"orientation\":\"v\",\"showlegend\":true,\"x\":[0.0005460184335823177,0.0005460184335823177,0.000599319173418996,0.0008899409969119047,0.0008899409969119047,0.0012179822905374956,0.001254390366281987,0.001254390366281987,0.001502765087761481,0.002185123678000175,0.004700352526439483,0.004700352526439483,0.007950389569088886],\"xaxis\":\"x\",\"y\":[81.376,80.968,82.144,83.298,83.208,83.756,85.272,83.606,83.92,86.312,86.438,84.476,87.132],\"yaxis\":\"y\",\"type\":\"scatter\"},{\"customdata\":[[224],[224],[384],[384],[512]],\"hovertemplate\":\"\\u003cb\\u003e%{hovertext}\\u003c\\u002fb\\u003e\\u003cbr\\u003e\\u003cbr\\u003efamily=beit\\u003cbr\\u003esecs=%{x}\\u003cbr\\u003etop1=%{y}\\u003cbr\\u003esize=%{marker.size}\\u003cbr\\u003einfer_img_size=%{customdata[0]}\\u003cextra\\u003e\\u003c\\u002fextra\\u003e\",\"hovertext\":[\"beit_base_patch16_224.in22k_ft_in22k_in1k\",\"beit_large_patch16_224.in22k_ft_in22k_in1k\",\"beit_base_patch16_384.in22k_ft_in22k_in1k\",\"beit_large_patch16_384.in22k_ft_in22k_in1k\",\"beit_large_patch16_512.in22k_ft_in22k_in1k\"],\"legendgroup\":\"beit\",\"marker\":{\"color\":\"#636efa\",\"size\":[50176,50176,147456,147456,262144],\"sizemode\":\"area\",\"sizeref\":655.36,\"symbol\":\"circle\"},\"mode\":\"markers\",\"name\":\"beit\",\"orientation\":\"v\",\"showlegend\":true,\"x\":[0.0010062791820962809,0.0030446034404018876,0.00418007774944614,0.0121580547112462,0.030184123151222455],\"xaxis\":\"x\",\"y\":[85.212,87.478,86.8,88.402,88.596],\"yaxis\":\"y\",\"type\":\"scatter\"},{\"customdata\":[[288],[288]],\"hovertemplate\":\"\\u003cb\\u003e%{hovertext}\\u003c\\u002fb\\u003e\\u003cbr\\u003e\\u003cbr\\u003efamily=regnetv\\u003cbr\\u003esecs=%{x}\\u003cbr\\u003etop1=%{y}\\u003cbr\\u003esize=%{marker.size}\\u003cbr\\u003einfer_img_size=%{customdata[0]}\\u003cextra\\u003e\\u003c\\u002fextra\\u003e\",\"hovertext\":[\"regnetv_040.ra3_in1k\",\"regnetv_064.ra3_in1k\"],\"legendgroup\":\"regnetv\",\"marker\":{\"color\":\"#EF553B\",\"size\":[82944,82944],\"sizemode\":\"area\",\"sizeref\":655.36,\"symbol\":\"circle\"},\"mode\":\"markers\",\"name\":\"regnetv\",\"orientation\":\"v\",\"showlegend\":true,\"x\":[0.0011776343680813981,0.0021355201059217975],\"xaxis\":\"x\",\"y\":[83.19,83.716],\"yaxis\":\"y\",\"type\":\"scatter\"},{\"customdata\":[[288]],\"hovertemplate\":\"\\u003cb\\u003e%{hovertext}\\u003c\\u002fb\\u003e\\u003cbr\\u003e\\u003cbr\\u003efamily=resnetv2d\\u003cbr\\u003esecs=%{x}\\u003cbr\\u003etop1=%{y}\\u003cbr\\u003esize=%{marker.size}\\u003cbr\\u003einfer_img_size=%{customdata[0]}\\u003cextra\\u003e\\u003c\\u002fextra\\u003e\",\"hovertext\":[\"resnetv2_50d_evos.ah_in1k\"],\"legendgroup\":\"resnetv2d\",\"marker\":{\"color\":\"#00cc96\",\"size\":[82944],\"sizemode\":\"area\",\"sizeref\":655.36,\"symbol\":\"circle\"},\"mode\":\"markers\",\"name\":\"resnetv2d\",\"orientation\":\"v\",\"showlegend\":true,\"x\":[0.0011976191331632715],\"xaxis\":\"x\",\"y\":[82.002],\"yaxis\":\"y\",\"type\":\"scatter\"}],                        {\"template\":{\"data\":{\"histogram2dcontour\":[{\"type\":\"histogram2dcontour\",\"colorbar\":{\"outlinewidth\":0,\"ticks\":\"\"},\"colorscale\":[[0.0,\"#0d0887\"],[0.1111111111111111,\"#46039f\"],[0.2222222222222222,\"#7201a8\"],[0.3333333333333333,\"#9c179e\"],[0.4444444444444444,\"#bd3786\"],[0.5555555555555556,\"#d8576b\"],[0.6666666666666666,\"#ed7953\"],[0.7777777777777778,\"#fb9f3a\"],[0.8888888888888888,\"#fdca26\"],[1.0,\"#f0f921\"]]}],\"choropleth\":[{\"type\":\"choropleth\",\"colorbar\":{\"outlinewidth\":0,\"ticks\":\"\"}}],\"histogram2d\":[{\"type\":\"histogram2d\",\"colorbar\":{\"outlinewidth\":0,\"ticks\":\"\"},\"colorscale\":[[0.0,\"#0d0887\"],[0.1111111111111111,\"#46039f\"],[0.2222222222222222,\"#7201a8\"],[0.3333333333333333,\"#9c179e\"],[0.4444444444444444,\"#bd3786\"],[0.5555555555555556,\"#d8576b\"],[0.6666666666666666,\"#ed7953\"],[0.7777777777777778,\"#fb9f3a\"],[0.8888888888888888,\"#fdca26\"],[1.0,\"#f0f921\"]]}],\"heatmap\":[{\"type\":\"heatmap\",\"colorbar\":{\"outlinewidth\":0,\"ticks\":\"\"},\"colorscale\":[[0.0,\"#0d0887\"],[0.1111111111111111,\"#46039f\"],[0.2222222222222222,\"#7201a8\"],[0.3333333333333333,\"#9c179e\"],[0.4444444444444444,\"#bd3786\"],[0.5555555555555556,\"#d8576b\"],[0.6666666666666666,\"#ed7953\"],[0.7777777777777778,\"#fb9f3a\"],[0.8888888888888888,\"#fdca26\"],[1.0,\"#f0f921\"]]}],\"heatmapgl\":[{\"type\":\"heatmapgl\",\"colorbar\":{\"outlinewidth\":0,\"ticks\":\"\"},\"colorscale\":[[0.0,\"#0d0887\"],[0.1111111111111111,\"#46039f\"],[0.2222222222222222,\"#7201a8\"],[0.3333333333333333,\"#9c179e\"],[0.4444444444444444,\"#bd3786\"],[0.5555555555555556,\"#d8576b\"],[0.6666666666666666,\"#ed7953\"],[0.7777777777777778,\"#fb9f3a\"],[0.8888888888888888,\"#fdca26\"],[1.0,\"#f0f921\"]]}],\"contourcarpet\":[{\"type\":\"contourcarpet\",\"colorbar\":{\"outlinewidth\":0,\"ticks\":\"\"}}],\"contour\":[{\"type\":\"contour\",\"colorbar\":{\"outlinewidth\":0,\"ticks\":\"\"},\"colorscale\":[[0.0,\"#0d0887\"],[0.1111111111111111,\"#46039f\"],[0.2222222222222222,\"#7201a8\"],[0.3333333333333333,\"#9c179e\"],[0.4444444444444444,\"#bd3786\"],[0.5555555555555556,\"#d8576b\"],[0.6666666666666666,\"#ed7953\"],[0.7777777777777778,\"#fb9f3a\"],[0.8888888888888888,\"#fdca26\"],[1.0,\"#f0f921\"]]}],\"surface\":[{\"type\":\"surface\",\"colorbar\":{\"outlinewidth\":0,\"ticks\":\"\"},\"colorscale\":[[0.0,\"#0d0887\"],[0.1111111111111111,\"#46039f\"],[0.2222222222222222,\"#7201a8\"],[0.3333333333333333,\"#9c179e\"],[0.4444444444444444,\"#bd3786\"],[0.5555555555555556,\"#d8576b\"],[0.6666666666666666,\"#ed7953\"],[0.7777777777777778,\"#fb9f3a\"],[0.8888888888888888,\"#fdca26\"],[1.0,\"#f0f921\"]]}],\"mesh3d\":[{\"type\":\"mesh3d\",\"colorbar\":{\"outlinewidth\":0,\"ticks\":\"\"}}],\"scatter\":[{\"fillpattern\":{\"fillmode\":\"overlay\",\"size\":10,\"solidity\":0.2},\"type\":\"scatter\"}],\"parcoords\":[{\"type\":\"parcoords\",\"line\":{\"colorbar\":{\"outlinewidth\":0,\"ticks\":\"\"}}}],\"scatterpolargl\":[{\"type\":\"scatterpolargl\",\"marker\":{\"colorbar\":{\"outlinewidth\":0,\"ticks\":\"\"}}}],\"bar\":[{\"error_x\":{\"color\":\"#2a3f5f\"},\"error_y\":{\"color\":\"#2a3f5f\"},\"marker\":{\"line\":{\"color\":\"#E5ECF6\",\"width\":0.5},\"pattern\":{\"fillmode\":\"overlay\",\"size\":10,\"solidity\":0.2}},\"type\":\"bar\"}],\"scattergeo\":[{\"type\":\"scattergeo\",\"marker\":{\"colorbar\":{\"outlinewidth\":0,\"ticks\":\"\"}}}],\"scatterpolar\":[{\"type\":\"scatterpolar\",\"marker\":{\"colorbar\":{\"outlinewidth\":0,\"ticks\":\"\"}}}],\"histogram\":[{\"marker\":{\"pattern\":{\"fillmode\":\"overlay\",\"size\":10,\"solidity\":0.2}},\"type\":\"histogram\"}],\"scattergl\":[{\"type\":\"scattergl\",\"marker\":{\"colorbar\":{\"outlinewidth\":0,\"ticks\":\"\"}}}],\"scatter3d\":[{\"type\":\"scatter3d\",\"line\":{\"colorbar\":{\"outlinewidth\":0,\"ticks\":\"\"}},\"marker\":{\"colorbar\":{\"outlinewidth\":0,\"ticks\":\"\"}}}],\"scattermapbox\":[{\"type\":\"scattermapbox\",\"marker\":{\"colorbar\":{\"outlinewidth\":0,\"ticks\":\"\"}}}],\"scatterternary\":[{\"type\":\"scatterternary\",\"marker\":{\"colorbar\":{\"outlinewidth\":0,\"ticks\":\"\"}}}],\"scattercarpet\":[{\"type\":\"scattercarpet\",\"marker\":{\"colorbar\":{\"outlinewidth\":0,\"ticks\":\"\"}}}],\"carpet\":[{\"aaxis\":{\"endlinecolor\":\"#2a3f5f\",\"gridcolor\":\"white\",\"linecolor\":\"white\",\"minorgridcolor\":\"white\",\"startlinecolor\":\"#2a3f5f\"},\"baxis\":{\"endlinecolor\":\"#2a3f5f\",\"gridcolor\":\"white\",\"linecolor\":\"white\",\"minorgridcolor\":\"white\",\"startlinecolor\":\"#2a3f5f\"},\"type\":\"carpet\"}],\"table\":[{\"cells\":{\"fill\":{\"color\":\"#EBF0F8\"},\"line\":{\"color\":\"white\"}},\"header\":{\"fill\":{\"color\":\"#C8D4E3\"},\"line\":{\"color\":\"white\"}},\"type\":\"table\"}],\"barpolar\":[{\"marker\":{\"line\":{\"color\":\"#E5ECF6\",\"width\":0.5},\"pattern\":{\"fillmode\":\"overlay\",\"size\":10,\"solidity\":0.2}},\"type\":\"barpolar\"}],\"pie\":[{\"automargin\":true,\"type\":\"pie\"}]},\"layout\":{\"autotypenumbers\":\"strict\",\"colorway\":[\"#636efa\",\"#EF553B\",\"#00cc96\",\"#ab63fa\",\"#FFA15A\",\"#19d3f3\",\"#FF6692\",\"#B6E880\",\"#FF97FF\",\"#FECB52\"],\"font\":{\"color\":\"#2a3f5f\"},\"hovermode\":\"closest\",\"hoverlabel\":{\"align\":\"left\"},\"paper_bgcolor\":\"white\",\"plot_bgcolor\":\"#E5ECF6\",\"polar\":{\"bgcolor\":\"#E5ECF6\",\"angularaxis\":{\"gridcolor\":\"white\",\"linecolor\":\"white\",\"ticks\":\"\"},\"radialaxis\":{\"gridcolor\":\"white\",\"linecolor\":\"white\",\"ticks\":\"\"}},\"ternary\":{\"bgcolor\":\"#E5ECF6\",\"aaxis\":{\"gridcolor\":\"white\",\"linecolor\":\"white\",\"ticks\":\"\"},\"baxis\":{\"gridcolor\":\"white\",\"linecolor\":\"white\",\"ticks\":\"\"},\"caxis\":{\"gridcolor\":\"white\",\"linecolor\":\"white\",\"ticks\":\"\"}},\"coloraxis\":{\"colorbar\":{\"outlinewidth\":0,\"ticks\":\"\"}},\"colorscale\":{\"sequential\":[[0.0,\"#0d0887\"],[0.1111111111111111,\"#46039f\"],[0.2222222222222222,\"#7201a8\"],[0.3333333333333333,\"#9c179e\"],[0.4444444444444444,\"#bd3786\"],[0.5555555555555556,\"#d8576b\"],[0.6666666666666666,\"#ed7953\"],[0.7777777777777778,\"#fb9f3a\"],[0.8888888888888888,\"#fdca26\"],[1.0,\"#f0f921\"]],\"sequentialminus\":[[0.0,\"#0d0887\"],[0.1111111111111111,\"#46039f\"],[0.2222222222222222,\"#7201a8\"],[0.3333333333333333,\"#9c179e\"],[0.4444444444444444,\"#bd3786\"],[0.5555555555555556,\"#d8576b\"],[0.6666666666666666,\"#ed7953\"],[0.7777777777777778,\"#fb9f3a\"],[0.8888888888888888,\"#fdca26\"],[1.0,\"#f0f921\"]],\"diverging\":[[0,\"#8e0152\"],[0.1,\"#c51b7d\"],[0.2,\"#de77ae\"],[0.3,\"#f1b6da\"],[0.4,\"#fde0ef\"],[0.5,\"#f7f7f7\"],[0.6,\"#e6f5d0\"],[0.7,\"#b8e186\"],[0.8,\"#7fbc41\"],[0.9,\"#4d9221\"],[1,\"#276419\"]]},\"xaxis\":{\"gridcolor\":\"white\",\"linecolor\":\"white\",\"ticks\":\"\",\"title\":{\"standoff\":15},\"zerolinecolor\":\"white\",\"automargin\":true,\"zerolinewidth\":2},\"yaxis\":{\"gridcolor\":\"white\",\"linecolor\":\"white\",\"ticks\":\"\",\"title\":{\"standoff\":15},\"zerolinecolor\":\"white\",\"automargin\":true,\"zerolinewidth\":2},\"scene\":{\"xaxis\":{\"backgroundcolor\":\"#E5ECF6\",\"gridcolor\":\"white\",\"linecolor\":\"white\",\"showbackground\":true,\"ticks\":\"\",\"zerolinecolor\":\"white\",\"gridwidth\":2},\"yaxis\":{\"backgroundcolor\":\"#E5ECF6\",\"gridcolor\":\"white\",\"linecolor\":\"white\",\"showbackground\":true,\"ticks\":\"\",\"zerolinecolor\":\"white\",\"gridwidth\":2},\"zaxis\":{\"backgroundcolor\":\"#E5ECF6\",\"gridcolor\":\"white\",\"linecolor\":\"white\",\"showbackground\":true,\"ticks\":\"\",\"zerolinecolor\":\"white\",\"gridwidth\":2}},\"shapedefaults\":{\"line\":{\"color\":\"#2a3f5f\"}},\"annotationdefaults\":{\"arrowcolor\":\"#2a3f5f\",\"arrowhead\":0,\"arrowwidth\":1},\"geo\":{\"bgcolor\":\"white\",\"landcolor\":\"#E5ECF6\",\"subunitcolor\":\"white\",\"showland\":true,\"showlakes\":true,\"lakecolor\":\"white\"},\"title\":{\"x\":0.05},\"mapbox\":{\"style\":\"light\"}}},\"xaxis\":{\"anchor\":\"y\",\"domain\":[0.0,1.0],\"title\":{\"text\":\"secs\"},\"type\":\"log\"},\"yaxis\":{\"anchor\":\"x\",\"domain\":[0.0,1.0],\"title\":{\"text\":\"top1\"}},\"legend\":{\"title\":{\"text\":\"family\"},\"tracegroupgap\":0,\"itemsizing\":\"constant\"},\"title\":{\"text\":\"Inference\"},\"height\":800,\"width\":1000},                        {\"responsive\": true}                    ).then(function(){\n",
              "                            \n",
              "var gd = document.getElementById('d571762a-1084-4167-bf7e-b8ea6ccc8c52');\n",
              "var x = new MutationObserver(function (mutations, observer) {{\n",
              "        var display = window.getComputedStyle(gd).display;\n",
              "        if (!display || display === 'none') {{\n",
              "            console.log([gd, 'removed!']);\n",
              "            Plotly.purge(gd);\n",
              "            observer.disconnect();\n",
              "        }}\n",
              "}});\n",
              "\n",
              "// Listen for the removal of the full notebook cells\n",
              "var notebookContainer = gd.closest('#notebook-container');\n",
              "if (notebookContainer) {{\n",
              "    x.observe(notebookContainer, {childList: true});\n",
              "}}\n",
              "\n",
              "// Listen for the clearing of the current output cell\n",
              "var outputEl = gd.closest('.output');\n",
              "if (outputEl) {{\n",
              "    x.observe(outputEl, {childList: true});\n",
              "}}\n",
              "\n",
              "                        })                };                            </script>        </div>\n",
              "</body>\n",
              "</html>"
            ]
          },
          "metadata": {}
        }
      ]
    },
    {
      "cell_type": "code",
      "source": [],
      "metadata": {
        "colab": {
          "base_uri": "https://localhost:8080/",
          "height": 186
        },
        "id": "rucj6p4wbSFO",
        "outputId": "7b8a7180-7d8c-4509-dafb-827a56851d08"
      },
      "execution_count": null,
      "outputs": [
        {
          "output_type": "error",
          "ename": "ModuleNotFoundError",
          "evalue": "No module named 'pytorch_image_models'",
          "traceback": [
            "\u001b[0;31m---------------------------------------------------------------------------\u001b[0m",
            "\u001b[0;31mModuleNotFoundError\u001b[0m                       Traceback (most recent call last)",
            "\u001b[0;32m<ipython-input-34-a508c0b3c54f>\u001b[0m in \u001b[0;36m<cell line: 1>\u001b[0;34m()\u001b[0m\n\u001b[0;32m----> 1\u001b[0;31m \u001b[0;32mfrom\u001b[0m \u001b[0mpytorch_image_models\u001b[0m \u001b[0;32mimport\u001b[0m \u001b[0mtimm\u001b[0m\u001b[0;34m\u001b[0m\u001b[0;34m\u001b[0m\u001b[0m\n\u001b[0m",
            "\u001b[0;31mModuleNotFoundError\u001b[0m: No module named 'pytorch_image_models'"
          ]
        }
      ]
    },
    {
      "cell_type": "code",
      "source": [],
      "metadata": {
        "id": "LgbV5PpLcCc_"
      },
      "execution_count": null,
      "outputs": []
    }
  ]
}